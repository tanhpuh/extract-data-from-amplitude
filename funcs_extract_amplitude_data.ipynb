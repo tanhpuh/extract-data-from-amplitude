{
 "cells": [
  {
   "cell_type": "code",
   "execution_count": null,
   "id": "initial_id",
   "metadata": {
    "collapsed": true
   },
   "outputs": [],
   "source": [
    "import requests\n",
    "import base64\n",
    "import time\n",
    "import os\n",
    "import gzip\n",
    "import pandas as pd\n",
    "import zipfile"
   ]
  },
  {
   "cell_type": "markdown",
   "id": "597acde59372d854",
   "metadata": {
    "collapsed": false
   },
   "source": [
    "Connect and download from Amplitude"
   ]
  },
  {
   "cell_type": "code",
   "execution_count": null,
   "id": "ac43632f3a0a630",
   "metadata": {
    "collapsed": false
   },
   "outputs": [],
   "source": [
    "def download_from_amplitude(api_key, secret_key, date_start, date_end, file_name='amplitude_data',url=\"https://amplitude.com/api/2/export\"):\n",
    "    credentials = base64.b64encode(f\"{api_key}:{secret_key}\".encode())\n",
    "    headers = {\"Authorization\": f\"Basic {credentials.decode()}\"}\n",
    "    params = {\"start\": date_start, \"end\": date_end}\n",
    "    response = requests.get(url, params=params, headers=headers, stream=True)\n",
    "    if response.status_code == 200:\n",
    "        print('Connected to Amplitude server')\n",
    "        # Simulate downloading progress\n",
    "        print('Downloading data... [          ]', end='', flush=True)\n",
    "        for i in range(10):\n",
    "            time.sleep(0.5)  # Simulate downloading with a delay\n",
    "            print('\\b#', end='', flush=True)\n",
    "        with open(f\"{file_name}_{date_start}_{date_end}.zip\", \"wb\") as f:\n",
    "            f.write(response.content)\n",
    "        print('\\nAmplitude data downloaded and saved to zip file:', f\"{file_name}_{date_start}_{date_end}.zip\")\n",
    "        return 'Download completed'\n",
    "    else:\n",
    "        print('Error:', response.text)\n",
    "        return 'Download failed'"
   ]
  },
  {
   "cell_type": "code",
   "execution_count": null,
   "id": "d20318dc9822a623",
   "metadata": {
    "collapsed": false
   },
   "outputs": [],
   "source": [
    "# Example usage:\n",
    "api_key = \"99d374f67220dcf1643e35409ff9b91e\"\n",
    "secret_key = \"33dbf6d46e7c69ddb1f26a76789430c2\"\n",
    "start_date = \"20240315\"\n",
    "end_date = \"20240317\"\n",
    "\n",
    "result = download_from_amplitude(api_key, secret_key, start_date, end_date)\n",
    "print(result)  # Print the status message returned by the function"
   ]
  },
  {
   "cell_type": "markdown",
   "id": "29b39107c15a2d55",
   "metadata": {
    "collapsed": false
   },
   "source": [
    "Extract zip file and convert JSON to the Pandas Dataframe"
   ]
  },
  {
   "cell_type": "code",
   "execution_count": null,
   "id": "cb64933cb9923962",
   "metadata": {
    "collapsed": false
   },
   "outputs": [],
   "source": [
    "# Extract zip file to gz file in folder amplitude_data\n",
    "zip_file = f'amplitude_data_{start_date}_{end_date}.zip'\n",
    "with zipfile.ZipFile(zip_file, 'r') as zip_ref:\n",
    "   zip_ref.extractall('amplitude_data')"
   ]
  },
  {
   "cell_type": "code",
   "execution_count": null,
   "id": "72960f87a43adf44",
   "metadata": {
    "collapsed": false
   },
   "outputs": [],
   "source": [
    "# Open unzipped folder. Change YOUR_FOLDER_NAME to the name in your path. For example ‘amplitude_data/430255’ folder_name = '430255’\n",
    "folder_name = input('input_foldername: ')\n",
    "\n",
    "path = f'amplitude_data/{folder_name}' \n",
    "files = os.listdir(path)\n",
    "\n",
    "# Create DataFrame\n",
    "df = pd.DataFrame()\n",
    "# Add all JSON files from ‘path’ to the Dataframe \n",
    "for file in files:\n",
    "    df_i = pd.read_json(f'{path}/{file}',lines=True,compression='gzip')\n",
    "    df = pd.concat([df, df_i], axis=0)"
   ]
  },
  {
   "cell_type": "markdown",
   "id": "cf214f5a0f624cf2",
   "metadata": {
    "collapsed": false
   },
   "source": [
    "Save to csv file"
   ]
  },
  {
   "cell_type": "code",
   "execution_count": null,
   "id": "c3b198a758122f4f",
   "metadata": {
    "collapsed": false
   },
   "outputs": [],
   "source": [
    "# Save to CSV\n",
    "df.to_csv(f'amplitude_data_{start_date}_{end_date}.csv', index=False)"
   ]
  }
 ],
 "metadata": {
  "kernelspec": {
   "display_name": "Python 3",
   "language": "python",
   "name": "python3"
  },
  "language_info": {
   "codemirror_mode": {
    "name": "ipython",
    "version": 3
   },
   "file_extension": ".py",
   "mimetype": "text/x-python",
   "name": "python",
   "nbconvert_exporter": "python",
   "pygments_lexer": "ipython3",
   "version": "3.12.0"
  }
 },
 "nbformat": 4,
 "nbformat_minor": 5
}
